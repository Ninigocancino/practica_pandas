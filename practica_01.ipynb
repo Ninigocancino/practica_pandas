{
 "cells": [
  {
   "cell_type": "markdown",
   "metadata": {},
   "source": [
    "# Practica 01: Creación de DataFrames a partir de listas"
   ]
  },
  {
   "cell_type": "markdown",
   "metadata": {},
   "source": [
    "Crea 5  Pandas DataFrame de al menos 5 columnas a partir de una lista de lista. "
   ]
  },
  {
   "cell_type": "code",
   "execution_count": 3,
   "metadata": {},
   "outputs": [],
   "source": [
    "import pandas as pd"
   ]
  },
  {
   "cell_type": "markdown",
   "metadata": {},
   "source": [
    "## Data Frame ciudades"
   ]
  },
  {
   "cell_type": "markdown",
   "metadata": {},
   "source": [
    "Crea un Pandas dataframe que muestre 5 datos de 10 ciudades"
   ]
  },
  {
   "cell_type": "code",
   "execution_count": 13,
   "metadata": {},
   "outputs": [],
   "source": [
    "ciudades = [['México', 'México','America','9 millones', '45 km2'], \n",
    "            ['Nueva York','E.U.A','America','8 millones','39 km2'],\n",
    "            ['Madrid', 'España','Europa','12 millones', '23 km2'],\n",
    "            ['Bogota', 'Colombía','America','5 millones', '20 km2'],\n",
    "            ['Monterrey','México','America','6 millone','12 km2'],\n",
    "            ['Villahermosa','México','America','500 mil','5 km2'],\n",
    "            ['Cartagena','México','America','1 millon','6 km2'],\n",
    "            ['Río de Janeiro','Brazil','America','5 millones','12 km2'],\n",
    "            ['Toronto','Canada','America','3 millones','4 km2'],\n",
    "            ['París','Francia','Europa','4 millones','6 km2']]"
   ]
  },
  {
   "cell_type": "code",
   "execution_count": 14,
   "metadata": {},
   "outputs": [],
   "source": [
    "df_ciudades = pd.DataFrame(ciudades, columns=['Nombre', 'País','Continente','Población','Extensión'])"
   ]
  },
  {
   "cell_type": "code",
   "execution_count": 15,
   "metadata": {},
   "outputs": [
    {
     "data": {
      "text/html": [
       "<div>\n",
       "<style scoped>\n",
       "    .dataframe tbody tr th:only-of-type {\n",
       "        vertical-align: middle;\n",
       "    }\n",
       "\n",
       "    .dataframe tbody tr th {\n",
       "        vertical-align: top;\n",
       "    }\n",
       "\n",
       "    .dataframe thead th {\n",
       "        text-align: right;\n",
       "    }\n",
       "</style>\n",
       "<table border=\"1\" class=\"dataframe\">\n",
       "  <thead>\n",
       "    <tr style=\"text-align: right;\">\n",
       "      <th></th>\n",
       "      <th>Nombre</th>\n",
       "      <th>País</th>\n",
       "      <th>Continente</th>\n",
       "      <th>Población</th>\n",
       "      <th>Extensión</th>\n",
       "    </tr>\n",
       "  </thead>\n",
       "  <tbody>\n",
       "    <tr>\n",
       "      <th>0</th>\n",
       "      <td>México</td>\n",
       "      <td>México</td>\n",
       "      <td>America</td>\n",
       "      <td>9 millones</td>\n",
       "      <td>45 km2</td>\n",
       "    </tr>\n",
       "    <tr>\n",
       "      <th>1</th>\n",
       "      <td>Nueva York</td>\n",
       "      <td>E.U.A</td>\n",
       "      <td>America</td>\n",
       "      <td>8 millones</td>\n",
       "      <td>39 km2</td>\n",
       "    </tr>\n",
       "    <tr>\n",
       "      <th>2</th>\n",
       "      <td>Madrid</td>\n",
       "      <td>España</td>\n",
       "      <td>Europa</td>\n",
       "      <td>12 millones</td>\n",
       "      <td>23 km2</td>\n",
       "    </tr>\n",
       "    <tr>\n",
       "      <th>3</th>\n",
       "      <td>Bogota</td>\n",
       "      <td>Colombía</td>\n",
       "      <td>America</td>\n",
       "      <td>5 millones</td>\n",
       "      <td>20 km2</td>\n",
       "    </tr>\n",
       "    <tr>\n",
       "      <th>4</th>\n",
       "      <td>Monterrey</td>\n",
       "      <td>México</td>\n",
       "      <td>America</td>\n",
       "      <td>6 millone</td>\n",
       "      <td>12 km2</td>\n",
       "    </tr>\n",
       "    <tr>\n",
       "      <th>5</th>\n",
       "      <td>Villahermosa</td>\n",
       "      <td>México</td>\n",
       "      <td>America</td>\n",
       "      <td>500 mil</td>\n",
       "      <td>5 km2</td>\n",
       "    </tr>\n",
       "    <tr>\n",
       "      <th>6</th>\n",
       "      <td>Cartagena</td>\n",
       "      <td>México</td>\n",
       "      <td>America</td>\n",
       "      <td>1 millon</td>\n",
       "      <td>6 km2</td>\n",
       "    </tr>\n",
       "    <tr>\n",
       "      <th>7</th>\n",
       "      <td>Río de Janeiro</td>\n",
       "      <td>Brazil</td>\n",
       "      <td>America</td>\n",
       "      <td>5 millones</td>\n",
       "      <td>12 km2</td>\n",
       "    </tr>\n",
       "    <tr>\n",
       "      <th>8</th>\n",
       "      <td>Toronto</td>\n",
       "      <td>Canada</td>\n",
       "      <td>America</td>\n",
       "      <td>3 millones</td>\n",
       "      <td>4 km2</td>\n",
       "    </tr>\n",
       "    <tr>\n",
       "      <th>9</th>\n",
       "      <td>París</td>\n",
       "      <td>Francia</td>\n",
       "      <td>Europa</td>\n",
       "      <td>4 millones</td>\n",
       "      <td>6 km2</td>\n",
       "    </tr>\n",
       "  </tbody>\n",
       "</table>\n",
       "</div>"
      ],
      "text/plain": [
       "           Nombre      País Continente    Población Extensión\n",
       "0          México    México    America   9 millones    45 km2\n",
       "1      Nueva York     E.U.A    America   8 millones    39 km2\n",
       "2          Madrid    España     Europa  12 millones    23 km2\n",
       "3          Bogota  Colombía    America   5 millones    20 km2\n",
       "4       Monterrey    México    America    6 millone    12 km2\n",
       "5    Villahermosa    México    America      500 mil     5 km2\n",
       "6       Cartagena    México    America     1 millon     6 km2\n",
       "7  Río de Janeiro    Brazil    America   5 millones    12 km2\n",
       "8         Toronto    Canada    America   3 millones     4 km2\n",
       "9           París   Francia     Europa   4 millones     6 km2"
      ]
     },
     "execution_count": 15,
     "metadata": {},
     "output_type": "execute_result"
    }
   ],
   "source": [
    "df_ciudades"
   ]
  },
  {
   "cell_type": "markdown",
   "metadata": {},
   "source": [
    "## DATA FRAMES PRECIOS DE TIENDA"
   ]
  },
  {
   "cell_type": "markdown",
   "metadata": {},
   "source": [
    "Crea un Pandas Data Frame que muestre información sobre el inventario de una tienda"
   ]
  },
  {
   "cell_type": "code",
   "execution_count": 22,
   "metadata": {},
   "outputs": [],
   "source": [
    "productos = [['Arroz',33,'paquetes',12,45,'MXN','Plaza Independencia',],\n",
    "             ['Atun',200,'lata',20,150,'MXN','Plaza Independencia'],\n",
    "             ['Jabon',150,'Pieza',18,128,'MXN','Plaza Independencia'],\n",
    "             ['Shampoo',200,'Pieza',45,198,'MXN','Plaza Independencia'],\n",
    "             ['Refresco',450,'Botella',40,436,'MXN','Plaza Independencia'],\n",
    "             ['Cerveza',500,'lata',37,489,'MXN','Plaza Independencia'],\n",
    "             ['Maíz',200,'paquete 1kg',23,199,'MXN','Plaza Independencia']]"
   ]
  },
  {
   "cell_type": "code",
   "execution_count": 23,
   "metadata": {},
   "outputs": [],
   "source": [
    "df_productos = pd.DataFrame(productos, columns=['articulo','cant.lote','presentacion','precio','unidades_vendidas','modena','sucursal'])"
   ]
  },
  {
   "cell_type": "code",
   "execution_count": 25,
   "metadata": {},
   "outputs": [
    {
     "data": {
      "text/html": [
       "<div>\n",
       "<style scoped>\n",
       "    .dataframe tbody tr th:only-of-type {\n",
       "        vertical-align: middle;\n",
       "    }\n",
       "\n",
       "    .dataframe tbody tr th {\n",
       "        vertical-align: top;\n",
       "    }\n",
       "\n",
       "    .dataframe thead th {\n",
       "        text-align: right;\n",
       "    }\n",
       "</style>\n",
       "<table border=\"1\" class=\"dataframe\">\n",
       "  <thead>\n",
       "    <tr style=\"text-align: right;\">\n",
       "      <th></th>\n",
       "      <th>articulo</th>\n",
       "      <th>cant.lote</th>\n",
       "      <th>presentacion</th>\n",
       "      <th>precio</th>\n",
       "      <th>unidades_vendidas</th>\n",
       "      <th>modena</th>\n",
       "      <th>sucursal</th>\n",
       "    </tr>\n",
       "  </thead>\n",
       "  <tbody>\n",
       "    <tr>\n",
       "      <th>0</th>\n",
       "      <td>Arroz</td>\n",
       "      <td>33</td>\n",
       "      <td>paquetes</td>\n",
       "      <td>12</td>\n",
       "      <td>45</td>\n",
       "      <td>MXN</td>\n",
       "      <td>Plaza Independencia</td>\n",
       "    </tr>\n",
       "    <tr>\n",
       "      <th>1</th>\n",
       "      <td>Atun</td>\n",
       "      <td>200</td>\n",
       "      <td>lata</td>\n",
       "      <td>20</td>\n",
       "      <td>150</td>\n",
       "      <td>MXN</td>\n",
       "      <td>Plaza Independencia</td>\n",
       "    </tr>\n",
       "    <tr>\n",
       "      <th>2</th>\n",
       "      <td>Jabon</td>\n",
       "      <td>150</td>\n",
       "      <td>Pieza</td>\n",
       "      <td>18</td>\n",
       "      <td>128</td>\n",
       "      <td>MXN</td>\n",
       "      <td>Plaza Independencia</td>\n",
       "    </tr>\n",
       "    <tr>\n",
       "      <th>3</th>\n",
       "      <td>Shampoo</td>\n",
       "      <td>200</td>\n",
       "      <td>Pieza</td>\n",
       "      <td>45</td>\n",
       "      <td>198</td>\n",
       "      <td>MXN</td>\n",
       "      <td>Plaza Independencia</td>\n",
       "    </tr>\n",
       "    <tr>\n",
       "      <th>4</th>\n",
       "      <td>Refresco</td>\n",
       "      <td>450</td>\n",
       "      <td>Botella</td>\n",
       "      <td>40</td>\n",
       "      <td>436</td>\n",
       "      <td>MXN</td>\n",
       "      <td>Plaza Independencia</td>\n",
       "    </tr>\n",
       "    <tr>\n",
       "      <th>5</th>\n",
       "      <td>Cerveza</td>\n",
       "      <td>500</td>\n",
       "      <td>lata</td>\n",
       "      <td>37</td>\n",
       "      <td>489</td>\n",
       "      <td>MXN</td>\n",
       "      <td>Plaza Independencia</td>\n",
       "    </tr>\n",
       "    <tr>\n",
       "      <th>6</th>\n",
       "      <td>Maíz</td>\n",
       "      <td>200</td>\n",
       "      <td>paquete 1kg</td>\n",
       "      <td>23</td>\n",
       "      <td>199</td>\n",
       "      <td>MXN</td>\n",
       "      <td>Plaza Independencia</td>\n",
       "    </tr>\n",
       "  </tbody>\n",
       "</table>\n",
       "</div>"
      ],
      "text/plain": [
       "   articulo  cant.lote presentacion  precio  unidades_vendidas modena  \\\n",
       "0     Arroz         33     paquetes      12                 45    MXN   \n",
       "1      Atun        200         lata      20                150    MXN   \n",
       "2     Jabon        150        Pieza      18                128    MXN   \n",
       "3   Shampoo        200        Pieza      45                198    MXN   \n",
       "4  Refresco        450      Botella      40                436    MXN   \n",
       "5   Cerveza        500         lata      37                489    MXN   \n",
       "6      Maíz        200  paquete 1kg      23                199    MXN   \n",
       "\n",
       "              sucursal  \n",
       "0  Plaza Independencia  \n",
       "1  Plaza Independencia  \n",
       "2  Plaza Independencia  \n",
       "3  Plaza Independencia  \n",
       "4  Plaza Independencia  \n",
       "5  Plaza Independencia  \n",
       "6  Plaza Independencia  "
      ]
     },
     "execution_count": 25,
     "metadata": {},
     "output_type": "execute_result"
    }
   ],
   "source": [
    "df_productos"
   ]
  }
 ],
 "metadata": {
  "kernelspec": {
   "display_name": "venv_pandas_practica",
   "language": "python",
   "name": "python3"
  },
  "language_info": {
   "codemirror_mode": {
    "name": "ipython",
    "version": 3
   },
   "file_extension": ".py",
   "mimetype": "text/x-python",
   "name": "python",
   "nbconvert_exporter": "python",
   "pygments_lexer": "ipython3",
   "version": "3.12.1"
  }
 },
 "nbformat": 4,
 "nbformat_minor": 2
}
