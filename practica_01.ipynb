{
 "cells": [
  {
   "cell_type": "markdown",
   "metadata": {},
   "source": [
    "# Practica 01: Creación de DataFrames a partir de listas"
   ]
  },
  {
   "cell_type": "markdown",
   "metadata": {},
   "source": [
    "Crea 5  Pandas DataFrame de al menos 5 columnas a partir de una lista de lista. "
   ]
  },
  {
   "cell_type": "code",
   "execution_count": 3,
   "metadata": {},
   "outputs": [],
   "source": [
    "import pandas as pd"
   ]
  },
  {
   "cell_type": "markdown",
   "metadata": {},
   "source": [
    "## Data Frame ciudades"
   ]
  },
  {
   "cell_type": "markdown",
   "metadata": {},
   "source": [
    "Crea un Pandas dataframe que muestre 5 datos de 10 ciudades"
   ]
  },
  {
   "cell_type": "code",
   "execution_count": 7,
   "metadata": {},
   "outputs": [],
   "source": [
    "ciudades = [['México', 'México','America','23 millones', '45 km2'], ['Nueva York','E.U.A','America','23 millones','39 km2'],\n",
    "            ['Madrid', 'España','Europa','12 millones', '23 km2'], ['Bogota', 'Colombía','America','5 millones', '20 km2']]"
   ]
  },
  {
   "cell_type": "code",
   "execution_count": 8,
   "metadata": {},
   "outputs": [],
   "source": [
    "df_ciudades = pd.DataFrame(ciudades, columns=['Nombre', 'País','Continente','Población','Extensión'])"
   ]
  },
  {
   "cell_type": "code",
   "execution_count": 11,
   "metadata": {},
   "outputs": [
    {
     "data": {
      "text/html": [
       "<div>\n",
       "<style scoped>\n",
       "    .dataframe tbody tr th:only-of-type {\n",
       "        vertical-align: middle;\n",
       "    }\n",
       "\n",
       "    .dataframe tbody tr th {\n",
       "        vertical-align: top;\n",
       "    }\n",
       "\n",
       "    .dataframe thead th {\n",
       "        text-align: right;\n",
       "    }\n",
       "</style>\n",
       "<table border=\"1\" class=\"dataframe\">\n",
       "  <thead>\n",
       "    <tr style=\"text-align: right;\">\n",
       "      <th></th>\n",
       "      <th>Nombre</th>\n",
       "      <th>País</th>\n",
       "      <th>Continente</th>\n",
       "      <th>Población</th>\n",
       "      <th>Extensión</th>\n",
       "    </tr>\n",
       "  </thead>\n",
       "  <tbody>\n",
       "    <tr>\n",
       "      <th>0</th>\n",
       "      <td>México</td>\n",
       "      <td>México</td>\n",
       "      <td>America</td>\n",
       "      <td>23 millones</td>\n",
       "      <td>45 km2</td>\n",
       "    </tr>\n",
       "    <tr>\n",
       "      <th>1</th>\n",
       "      <td>Nueva York</td>\n",
       "      <td>E.U.A</td>\n",
       "      <td>America</td>\n",
       "      <td>23 millones</td>\n",
       "      <td>39 km2</td>\n",
       "    </tr>\n",
       "    <tr>\n",
       "      <th>2</th>\n",
       "      <td>Madrid</td>\n",
       "      <td>España</td>\n",
       "      <td>Europa</td>\n",
       "      <td>12 millones</td>\n",
       "      <td>23 km2</td>\n",
       "    </tr>\n",
       "    <tr>\n",
       "      <th>3</th>\n",
       "      <td>Bogota</td>\n",
       "      <td>Colombía</td>\n",
       "      <td>America</td>\n",
       "      <td>5 millones</td>\n",
       "      <td>20 km2</td>\n",
       "    </tr>\n",
       "  </tbody>\n",
       "</table>\n",
       "</div>"
      ],
      "text/plain": [
       "       Nombre      País Continente    Población Extensión\n",
       "0      México    México    America  23 millones    45 km2\n",
       "1  Nueva York     E.U.A    America  23 millones    39 km2\n",
       "2      Madrid    España     Europa  12 millones    23 km2\n",
       "3      Bogota  Colombía    America   5 millones    20 km2"
      ]
     },
     "execution_count": 11,
     "metadata": {},
     "output_type": "execute_result"
    }
   ],
   "source": [
    "df_ciudades"
   ]
  }
 ],
 "metadata": {
  "kernelspec": {
   "display_name": "venv_pandas_practica",
   "language": "python",
   "name": "python3"
  },
  "language_info": {
   "codemirror_mode": {
    "name": "ipython",
    "version": 3
   },
   "file_extension": ".py",
   "mimetype": "text/x-python",
   "name": "python",
   "nbconvert_exporter": "python",
   "pygments_lexer": "ipython3",
   "version": "3.12.1"
  }
 },
 "nbformat": 4,
 "nbformat_minor": 2
}
